{
 "cells": [
  {
   "cell_type": "code",
   "execution_count": 3,
   "id": "8e366355-eebd-4a29-a2d6-84f1af01bed3",
   "metadata": {},
   "outputs": [
    {
     "name": "stdout",
     "output_type": "stream",
     "text": [
      "Requirement already satisfied: earthengine-api in c:\\users\\user\\anaconda3\\lib\\site-packages (1.4.2)\n",
      "Requirement already satisfied: google-cloud-storage in c:\\users\\user\\anaconda3\\lib\\site-packages (from earthengine-api) (2.19.0)\n",
      "Requirement already satisfied: google-api-python-client>=1.12.1 in c:\\users\\user\\anaconda3\\lib\\site-packages (from earthengine-api) (2.154.0)\n",
      "Requirement already satisfied: google-auth>=1.4.1 in c:\\users\\user\\anaconda3\\lib\\site-packages (from earthengine-api) (2.36.0)\n",
      "Requirement already satisfied: google-auth-httplib2>=0.0.3 in c:\\users\\user\\anaconda3\\lib\\site-packages (from earthengine-api) (0.2.0)\n",
      "Requirement already satisfied: httplib2<1dev,>=0.9.2 in c:\\users\\user\\anaconda3\\lib\\site-packages (from earthengine-api) (0.22.0)\n",
      "Requirement already satisfied: requests in c:\\users\\user\\anaconda3\\lib\\site-packages (from earthengine-api) (2.32.3)\n",
      "Requirement already satisfied: google-api-core!=2.0.*,!=2.1.*,!=2.2.*,!=2.3.0,<3.0.0.dev0,>=1.31.5 in c:\\users\\user\\anaconda3\\lib\\site-packages (from google-api-python-client>=1.12.1->earthengine-api) (2.23.0)\n",
      "Requirement already satisfied: uritemplate<5,>=3.0.1 in c:\\users\\user\\anaconda3\\lib\\site-packages (from google-api-python-client>=1.12.1->earthengine-api) (4.1.1)\n",
      "Requirement already satisfied: cachetools<6.0,>=2.0.0 in c:\\users\\user\\anaconda3\\lib\\site-packages (from google-auth>=1.4.1->earthengine-api) (5.3.3)\n",
      "Requirement already satisfied: pyasn1-modules>=0.2.1 in c:\\users\\user\\anaconda3\\lib\\site-packages (from google-auth>=1.4.1->earthengine-api) (0.2.8)\n",
      "Requirement already satisfied: rsa<5,>=3.1.4 in c:\\users\\user\\anaconda3\\lib\\site-packages (from google-auth>=1.4.1->earthengine-api) (4.9)\n",
      "Requirement already satisfied: pyparsing!=3.0.0,!=3.0.1,!=3.0.2,!=3.0.3,<4,>=2.4.2 in c:\\users\\user\\anaconda3\\lib\\site-packages (from httplib2<1dev,>=0.9.2->earthengine-api) (3.1.2)\n",
      "Requirement already satisfied: google-cloud-core<3.0dev,>=2.3.0 in c:\\users\\user\\anaconda3\\lib\\site-packages (from google-cloud-storage->earthengine-api) (2.4.1)\n",
      "Requirement already satisfied: google-resumable-media>=2.7.2 in c:\\users\\user\\anaconda3\\lib\\site-packages (from google-cloud-storage->earthengine-api) (2.7.2)\n",
      "Requirement already satisfied: google-crc32c<2.0dev,>=1.0 in c:\\users\\user\\anaconda3\\lib\\site-packages (from google-cloud-storage->earthengine-api) (1.6.0)\n",
      "Requirement already satisfied: charset-normalizer<4,>=2 in c:\\users\\user\\anaconda3\\lib\\site-packages (from requests->earthengine-api) (3.3.2)\n",
      "Requirement already satisfied: idna<4,>=2.5 in c:\\users\\user\\anaconda3\\lib\\site-packages (from requests->earthengine-api) (3.7)\n",
      "Requirement already satisfied: urllib3<3,>=1.21.1 in c:\\users\\user\\anaconda3\\lib\\site-packages (from requests->earthengine-api) (2.2.3)\n",
      "Requirement already satisfied: certifi>=2017.4.17 in c:\\users\\user\\anaconda3\\lib\\site-packages (from requests->earthengine-api) (2024.8.30)\n",
      "Requirement already satisfied: googleapis-common-protos<2.0.dev0,>=1.56.2 in c:\\users\\user\\anaconda3\\lib\\site-packages (from google-api-core!=2.0.*,!=2.1.*,!=2.2.*,!=2.3.0,<3.0.0.dev0,>=1.31.5->google-api-python-client>=1.12.1->earthengine-api) (1.66.0)\n",
      "Requirement already satisfied: protobuf!=3.20.0,!=3.20.1,!=4.21.0,!=4.21.1,!=4.21.2,!=4.21.3,!=4.21.4,!=4.21.5,<6.0.0.dev0,>=3.19.5 in c:\\users\\user\\anaconda3\\lib\\site-packages (from google-api-core!=2.0.*,!=2.1.*,!=2.2.*,!=2.3.0,<3.0.0.dev0,>=1.31.5->google-api-python-client>=1.12.1->earthengine-api) (4.25.3)\n",
      "Requirement already satisfied: proto-plus<2.0.0dev,>=1.22.3 in c:\\users\\user\\anaconda3\\lib\\site-packages (from google-api-core!=2.0.*,!=2.1.*,!=2.2.*,!=2.3.0,<3.0.0.dev0,>=1.31.5->google-api-python-client>=1.12.1->earthengine-api) (1.25.0)\n",
      "Requirement already satisfied: pyasn1<0.5.0,>=0.4.6 in c:\\users\\user\\anaconda3\\lib\\site-packages (from pyasn1-modules>=0.2.1->google-auth>=1.4.1->earthengine-api) (0.4.8)\n",
      "Note: you may need to restart the kernel to use updated packages.\n"
     ]
    }
   ],
   "source": [
    "pip install earthengine-api\n"
   ]
  },
  {
   "cell_type": "code",
   "execution_count": 7,
   "id": "3376b27e-107f-4c87-ad03-473192567bfe",
   "metadata": {},
   "outputs": [
    {
     "data": {
      "text/html": [
       "<p>To authorize access needed by Earth Engine, open the following\n",
       "        URL in a web browser and follow the instructions:</p>\n",
       "        <p><a href=https://code.earthengine.google.com/client-auth?scopes=https%3A//www.googleapis.com/auth/earthengine%20https%3A//www.googleapis.com/auth/cloud-platform%20https%3A//www.googleapis.com/auth/devstorage.full_control&request_id=mSrXRPAXmA6Fx0QZPKAwLfD_dZ0g6_sObRdRD2mDtsU&tc=lnqPdeLIPKKEyU4Oxa2EOx7wNkKCXjBBdNY6aoDn0Tg&cc=zAPCbE7TVYeGr94D4xPCTJrzJOKn7zl_7MJKV4Z83Tg>https://code.earthengine.google.com/client-auth?scopes=https%3A//www.googleapis.com/auth/earthengine%20https%3A//www.googleapis.com/auth/cloud-platform%20https%3A//www.googleapis.com/auth/devstorage.full_control&request_id=mSrXRPAXmA6Fx0QZPKAwLfD_dZ0g6_sObRdRD2mDtsU&tc=lnqPdeLIPKKEyU4Oxa2EOx7wNkKCXjBBdNY6aoDn0Tg&cc=zAPCbE7TVYeGr94D4xPCTJrzJOKn7zl_7MJKV4Z83Tg</a></p>\n",
       "        <p>The authorization workflow will generate a code, which you should paste in the box below.</p>\n",
       "        "
      ],
      "text/plain": [
       "<IPython.core.display.HTML object>"
      ]
     },
     "metadata": {},
     "output_type": "display_data"
    },
    {
     "name": "stdin",
     "output_type": "stream",
     "text": [
      "Enter verification code:  4/1AanRRrt5nHKoiEFCAsnEWgKHWAKz77R_fyb4y8i21TEdhA3m0paQsD_1Ark\n"
     ]
    },
    {
     "name": "stdout",
     "output_type": "stream",
     "text": [
      "\n",
      "Successfully saved authorization token.\n"
     ]
    }
   ],
   "source": [
    "import ee\n",
    "ee.Authenticate()\n",
    "\n"
   ]
  },
  {
   "cell_type": "code",
   "execution_count": 25,
   "id": "8f009456-7194-4a61-a3c2-e710ebd4db32",
   "metadata": {},
   "outputs": [],
   "source": [
    "import ee\n",
    "# Initialize the Earth Engine library \n",
    "ee.Initialize(project='ee-menwagaw')\n"
   ]
  },
  {
   "cell_type": "code",
   "execution_count": 27,
   "id": "f2f88635-952a-42ce-9efa-dbbd715ecb0d",
   "metadata": {},
   "outputs": [],
   "source": [
    "\n",
    "# Define the area of interest by loading the shapefile from GEE assets\n",
    "shapefile_asset_id = 'projects/ee-menwagaw/assets/shp1'\n",
    "aoi = ee.FeatureCollection(shapefile_asset_id)\n",
    "\n"
   ]
  },
  {
   "cell_type": "code",
   "execution_count": 49,
   "id": "6e4f88c6-1846-4b5e-9e41-8a1bb16e4a9e",
   "metadata": {},
   "outputs": [],
   "source": [
    "import ee\n",
    "import folium\n",
    "\n",
    "# Initialize the Earth Engine library\n",
    "ee.Initialize()\n",
    "\n",
    "# Define the area of interest by loading the shapefile from GEE assets\n",
    "shapefile_asset_id = 'projects/ee-menwagaw/assets/shp1'\n",
    "aoi = ee.FeatureCollection(shapefile_asset_id)\n",
    "\n",
    "# Define the time period\n",
    "start_date = '1980-01-01'\n",
    "end_date = '2020-12-31'\n",
    "\n",
    "# Load the datasets\n",
    "era5 = ee.ImageCollection('ECMWF/ERA5/DAILY').filterDate(start_date, end_date).filterBounds(aoi)\n",
    "jra55 = ee.ImageCollection('IDAHO_EPSCOR/TERRACLIMATE').filterDate(start_date, end_date).filterBounds(aoi)\n",
    "merra2 = ee.ImageCollection('NASA/GSFC/MERRA2_400').filterDate(start_date, end_date).filterBounds(aoi)\n",
    "\n",
    "# Function to extract temperature and precipitation for ERA5\n",
    "def extract_era5(image, dataset_name):\n",
    "    temp = image.select('maximum_2m_air_temperature').rename(f'{dataset_name}_temp')\n",
    "    precip = image.select('total_precipitation').rename(f'{dataset_name}_precip')\n",
    "    return temp.addBands(precip)\n",
    "\n",
    "# Function to extract temperature and precipitation for JRA55\n",
    "def extract_jra55(image, dataset_name):\n",
    "    temp = image.select('tmmx').rename(f'{dataset_name}_temp')\n",
    "    precip = image.select('pr').rename(f'{dataset_name}_precip')\n",
    "    return temp.addBands(precip)\n",
    "\n",
    "# Function to extract temperature and precipitation for MERRA2\n",
    "def extract_merra2(image, dataset_name):\n",
    "    temp = image.select('T2M').rename(f'{dataset_name}_temp')\n",
    "    precip = image.select('PRECTOT').rename(f'{dataset_name}_precip')\n",
    "    return temp.addBands(precip)\n",
    "\n",
    "# Apply the function to the datasets\n",
    "era5_data = era5.map(lambda image: extract_era5(image, 'ERA5'))\n",
    "jra55_data = jra55.map(lambda image: extract_jra55(image, 'JRA55'))\n",
    "merra2_data = merra2.map(lambda image: extract_merra2(image, 'MERRA2'))\n",
    "\n",
    "# Elevation data\n",
    "elevation = ee.Image('USGS/SRTMGL1_003')\n",
    "\n",
    "# Combine datasets\n",
    "combined_data = era5_data.merge(jra55_data).merge(merra2_data)\n",
    "\n",
    "# Analyze biases and elevation dependence\n",
    "def analyze_biases(image):\n",
    "    temp_bias_era5 = image.select('ERA5_temp').subtract(image.select('JRA55_temp'))\n",
    "    temp_bias_merra2 = image.select('MERRA2_temp').subtract(image.select('JRA55_temp'))\n",
    "    precip_bias_era5 = image.select('ERA5_precip').subtract(image.select('JRA55_precip'))\n",
    "    precip_bias_merra2 = image.select('MERRA2_precip').subtract(image.select('JRA55_precip'))\n",
    "    \n",
    "    temp_bias_elevation = elevation.addBands(temp_bias_era5.rename('Temp_Bias_ERA5')).addBands(temp_bias_merra2.rename('Temp_Bias_MERRA2'))\n",
    "    precip_bias_elevation = elevation.addBands(precip_bias_era5.rename('Precip_Bias_ERA5')).addBands(precip_bias_merra2.rename('Precip_Bias_MERRA2'))\n",
    "    \n",
    "    return temp_bias_elevation.addBands(precip_bias_elevation)\n",
    "\n",
    "bias_analysis = combined_data.map(analyze_biases)\n"
   ]
  },
  {
   "cell_type": "code",
   "execution_count": null,
   "id": "42c23d9c-7b08-4289-90d2-f8a6441e6cf3",
   "metadata": {},
   "outputs": [],
   "source": [
    "# Define visualization parameters\n",
    "vis_params_temp = {\n",
    "    'min': -20,\n",
    "    'max': 40,\n",
    "    'palette': ['blue', 'white', 'red']\n",
    "}\n",
    "\n",
    "vis_params_precip = {\n",
    "    'min': 0,\n",
    "    'max': 200,\n",
    "    'palette': ['blue', 'white', 'green']\n",
    "}\n",
    "\n",
    "# Visualize temperature bias on a map\n",
    "map_temp = folium.Map(location=[0, 0], zoom_start=2)\n",
    "temp_bias_layer = folium.FeatureGroup(name='Temperature Bias')\n",
    "temp_bias_layer.add_child(folium.raster_layers.ImageOverlay(\n",
    "    image=bias_analysis.select('Temp_Bias_ERA5').getMapId(vis_params_temp),\n",
    "    bounds=[[aoi.geometry().bounds().getInfo()['coordinates'][0][1]], [aoi.geometry().bounds().getInfo()['coordinates'][0][3]]],\n",
    "    opacity=0.6\n",
    "))\n",
    "map_temp.add_child(temp_bias_layer)\n",
    "map_temp.add_child(folium.LayerControl())\n",
    "map_temp\n",
    "\n",
    "# Visualize precipitation bias on a map\n",
    "map_precip = folium.Map(location=[0, 0], zoom_start=2)\n",
    "precip_bias_layer = folium.FeatureGroup(name='Precipitation Bias')\n",
    "precip_bias_layer.add_child(folium.raster_layers.ImageOverlay(\n",
    "    image=bias_analysis.select('Precip_Bias_ERA5').getMapId(vis_params_precip),\n",
    "    bounds=[[aoi.geometry().bounds().getInfo()['coordinates'][0][1]], [aoi.geometry().bounds().getInfo()['coordinates'][0][3]]],\n",
    "    opacity=0.6\n",
    "))\n",
    "map_precip.add_child(precip_bias_layer)\n",
    "map_precip.add_child(folium.LayerControl())\n",
    "map_precip"
   ]
  }
 ],
 "metadata": {
  "kernelspec": {
   "display_name": "Python 3 (ipykernel)",
   "language": "python",
   "name": "python3"
  },
  "language_info": {
   "codemirror_mode": {
    "name": "ipython",
    "version": 3
   },
   "file_extension": ".py",
   "mimetype": "text/x-python",
   "name": "python",
   "nbconvert_exporter": "python",
   "pygments_lexer": "ipython3",
   "version": "3.12.7"
  }
 },
 "nbformat": 4,
 "nbformat_minor": 5
}
